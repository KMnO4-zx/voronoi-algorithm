{
 "cells": [
  {
   "cell_type": "code",
   "execution_count": 26,
   "metadata": {},
   "outputs": [],
   "source": [
    "import json\n",
    "from PIL import Image\n",
    "from tqdm import tqdm"
   ]
  },
  {
   "cell_type": "code",
   "execution_count": 27,
   "metadata": {},
   "outputs": [],
   "source": [
    "with open('./data/voronoi_h-8100-16200-2500.json', 'r', encoding='utf-8') as f:\n",
    "    v_data = json.load(f)"
   ]
  },
  {
   "cell_type": "code",
   "execution_count": 28,
   "metadata": {},
   "outputs": [],
   "source": [
    "with open('./pm_data/2017.json', 'r', encoding='utf-8') as f:\n",
    "    pmdata = json.load(f)"
   ]
  },
  {
   "cell_type": "code",
   "execution_count": 29,
   "metadata": {},
   "outputs": [],
   "source": [
    "def map_value_to_gradient_color(value, min_value=0, max_value=130):\n",
    "    # 定义从淡橙色到深橙红色的渐变颜色系列\n",
    "    gradient_colors = [\n",
    "        (255, 200, 100),  # 淡橙色\n",
    "        (255, 180, 80),\n",
    "        (255, 160, 60),\n",
    "        (255, 140, 40),\n",
    "        (255, 120, 20),\n",
    "        (255, 100, 0),   # 明亮的橙色\n",
    "        (235, 90, 0),\n",
    "        (215, 80, 0),\n",
    "        (195, 70, 0),\n",
    "        (175, 60, 0)    # 深橙红色\n",
    "    ]\n",
    "    # 计算每段的大小\n",
    "    range_size = (max_value - min_value) / len(gradient_colors)\n",
    "    \n",
    "    # 确定数值所在的段\n",
    "    index = int((value - min_value) / range_size)\n",
    "    \n",
    "    # 防止越界\n",
    "    if index >= len(gradient_colors):\n",
    "        index = len(gradient_colors) - 1\n",
    "    \n",
    "    return gradient_colors[index]"
   ]
  },
  {
   "cell_type": "code",
   "execution_count": 30,
   "metadata": {},
   "outputs": [],
   "source": [
    "def paint_map(data, filename):\n",
    "    width = len(data[0])\n",
    "    height = len(data)\n",
    "    image = Image.new('RGB', (width, height))\n",
    "    put_pixel  = image.putpixel\n",
    "    print(\"******绘制图像******\")\n",
    "    for row in tqdm(range(height)):\n",
    "        for col in range(width):\n",
    "            # 当data[row][col]上下左右的数值不同时 color为黑色\n",
    "            if row > 0 and data[row][col] != data[row-1][col]:\n",
    "                color = (0, 0, 0)\n",
    "            elif row < height-1 and data[row][col] != data[row+1][col]:\n",
    "                color = (0, 0, 0)\n",
    "            elif col > 0 and data[row][col] != data[row][col-1]:\n",
    "                color = (0, 0, 0)\n",
    "            elif col < width-1 and data[row][col] != data[row][col+1]:\n",
    "                color = (0, 0, 0)\n",
    "            else:\n",
    "                color = map_value_to_gradient_color(pmdata[str(data[row][col])], 0, 50)\n",
    "            put_pixel((col, row), (color[0], color[1], color[2]))\n",
    "    image.save(f\"{filename}.jpg\")"
   ]
  },
  {
   "cell_type": "code",
   "execution_count": 31,
   "metadata": {},
   "outputs": [
    {
     "name": "stdout",
     "output_type": "stream",
     "text": [
      "******绘制图像******\n"
     ]
    },
    {
     "name": "stderr",
     "output_type": "stream",
     "text": [
      "  0%|          | 0/8100 [00:00<?, ?it/s]"
     ]
    },
    {
     "name": "stderr",
     "output_type": "stream",
     "text": [
      "100%|██████████| 8100/8100 [05:34<00:00, 24.20it/s]\n"
     ]
    }
   ],
   "source": [
    "paint_map(v_data, \"img/pm-2017\")"
   ]
  },
  {
   "cell_type": "code",
   "execution_count": 32,
   "metadata": {},
   "outputs": [
    {
     "data": {
      "text/plain": [
       "(5.338861465454102, 71.86572265625)"
      ]
     },
     "execution_count": 32,
     "metadata": {},
     "output_type": "execute_result"
    }
   ],
   "source": [
    "vals = []\n",
    "for key, val in pmdata.items():\n",
    "    vals.append(val)\n",
    "min(vals), max(vals)"
   ]
  },
  {
   "cell_type": "code",
   "execution_count": 33,
   "metadata": {},
   "outputs": [
    {
     "data": {
      "image/png": "[encoded data removed]",
      "text/plain": [
       "<Figure size 640x480 with 1 Axes>"
      ]
     },
     "metadata": {},
     "output_type": "display_data"
    }
   ],
   "source": [
    "import matplotlib.pyplot as plt\n",
    "\n",
    "plt.hist(vals, bins=10)\n",
    "plt.xlabel('Value')\n",
    "plt.ylabel('Frequency')\n",
    "plt.title('Distribution of vals')\n",
    "plt.show()\n"
   ]
  }
 ],
 "metadata": {
  "kernelspec": {
   "display_name": "voronoi",
   "language": "python",
   "name": "python3"
  },
  "language_info": {
   "codemirror_mode": {
    "name": "ipython",
    "version": 3
   },
   "file_extension": ".py",
   "mimetype": "text/x-python",
   "name": "python",
   "nbconvert_exporter": "python",
   "pygments_lexer": "ipython3",
   "version": "3.8.18"
  }
 },
 "nbformat": 4,
 "nbformat_minor": 2
}
